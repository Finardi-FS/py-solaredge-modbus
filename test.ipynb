{
 "cells": [
  {
   "cell_type": "code",
   "execution_count": 4,
   "id": "0614b215",
   "metadata": {},
   "outputs": [
    {
     "name": "stdout",
     "output_type": "stream",
     "text": [
      "Connection established successfully.\n",
      "\n",
      "--- Inverter Common Data ---\n",
      "Manufacturer: SolarEdge \n",
      "Model: SE4000H-RW000BEN4\n",
      "Firmware Version: 0004.0023.0027\n",
      "Modbus Device ID: 1\n",
      "\n",
      "--- Inverter Electrical Data ---\n",
      "Total AC Current: 7.38 A\n",
      "AC Power: 1779.70 W\n",
      "AC Frequency: 50.01 Hz\n",
      "Total Lifetime Energy: 7578848.00 Wh\n",
      "DC Voltage: 370.60 V\n",
      "DC Power: 1806.60 W\n",
      "Heat Sink Temperature: 41.90 °C\n",
      "Operating Status: 4\n",
      "\n",
      "Connection closed.\n"
     ]
    }
   ],
   "source": [
    "from solaredge_class.py_solaredge import SolarEdgeInverter\n",
    "\n",
    "# Replace with your SolarEdge inverter's IP address\n",
    "INVERTER_HOST = \"192.168.178.47\"\n",
    "INVERTER_PORT = 1502  # Default Modbus TCP port for SolarEdge (verify with your inverter's settings)\n",
    "INVERTER_UNIT_ID = 1  # Default Modbus unit ID\n",
    "\n",
    "inverter = None\n",
    "try:\n",
    "    inverter = SolarEdgeInverter(host=INVERTER_HOST, port=INVERTER_PORT, unit_id=INVERTER_UNIT_ID)\n",
    "    inverter.connect()\n",
    "\n",
    "    # Example of reading common data\n",
    "    print(f\"\\n--- Inverter Common Data ---\")\n",
    "    print(f\"Manufacturer: {inverter.get_manufacturer()}\")\n",
    "    print(f\"Model: {inverter.get_model()}\")\n",
    "    print(f\"Firmware Version: {inverter.get_version()}\")\n",
    "    print(f\"Modbus Device ID: {inverter.get_device_address()}\")\n",
    "\n",
    "    # Example of reading specific inverter data\n",
    "    print(f\"\\n--- Inverter Electrical Data ---\")\n",
    "    ac_currents = inverter.get_ac_currents()\n",
    "    print(f\"Total AC Current: {ac_currents['total']:.2f} A\")\n",
    "    print(f\"AC Power: {inverter.get_ac_power():.2f} W\")\n",
    "    print(f\"AC Frequency: {inverter.get_ac_frequency():.2f} Hz\")\n",
    "    print(f\"Total Lifetime Energy: {inverter.get_total_energy_wh():.2f} Wh\")\n",
    "    print(f\"DC Voltage: {inverter.get_dc_voltage():.2f} V\")\n",
    "    print(f\"DC Power: {inverter.get_dc_power():.2f} W\")\n",
    "    print(f\"Heat Sink Temperature: {inverter.get_temperature_sink():.2f} °C\")\n",
    "    print(f\"Operating Status: {inverter.get_status()}\\n\")\n",
    "\n",
    "except ConnectionError as ce:\n",
    "    print(f\"Connection error: {ce}\")\n",
    "except Exception as e:\n",
    "    print(f\"An error occurred: {e}\")\n",
    "finally:\n",
    "    if inverter:\n",
    "        inverter.close()"
   ]
  }
 ],
 "metadata": {
  "kernelspec": {
   "display_name": "DOMOTIC-venv",
   "language": "python",
   "name": "python3"
  },
  "language_info": {
   "codemirror_mode": {
    "name": "ipython",
    "version": 3
   },
   "file_extension": ".py",
   "mimetype": "text/x-python",
   "name": "python",
   "nbconvert_exporter": "python",
   "pygments_lexer": "ipython3",
   "version": "3.13.5"
  }
 },
 "nbformat": 4,
 "nbformat_minor": 5
}
